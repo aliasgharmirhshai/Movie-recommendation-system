{
 "cells": [
  {
   "cell_type": "code",
   "execution_count": 18,
   "metadata": {
    "vscode": {
     "languageId": "plaintext"
    }
   },
   "outputs": [],
   "source": [
    "import pandas as pd\n",
    "import numpy as np\n",
    "import matplotlib.pyplot as plt"
   ]
  },
  {
   "cell_type": "code",
   "execution_count": 3,
   "metadata": {},
   "outputs": [],
   "source": [
    "movies = pd.read_csv(\"../backend/data/raw/movies.csv\")\n",
    "links = pd.read_csv('../backend/data/raw/links.csv')\n",
    "ratings = pd.read_csv('../backend/data/raw/ratings.csv')\n",
    "tags = pd.read_csv('../backend/data/raw/tags.csv')"
   ]
  },
  {
   "cell_type": "code",
   "execution_count": 4,
   "metadata": {},
   "outputs": [],
   "source": [
    "df = movies.merge(ratings, on='movieId', how='left') \\\n",
    "                     .merge(links, on='movieId', how='left') \\\n",
    "                     .merge(tags, on='movieId', how='left')"
   ]
  },
  {
   "cell_type": "code",
   "execution_count": 5,
   "metadata": {},
   "outputs": [
    {
     "data": {
      "text/html": [
       "<div>\n",
       "<style scoped>\n",
       "    .dataframe tbody tr th:only-of-type {\n",
       "        vertical-align: middle;\n",
       "    }\n",
       "\n",
       "    .dataframe tbody tr th {\n",
       "        vertical-align: top;\n",
       "    }\n",
       "\n",
       "    .dataframe thead th {\n",
       "        text-align: right;\n",
       "    }\n",
       "</style>\n",
       "<table border=\"1\" class=\"dataframe\">\n",
       "  <thead>\n",
       "    <tr style=\"text-align: right;\">\n",
       "      <th></th>\n",
       "      <th>movieId</th>\n",
       "      <th>title</th>\n",
       "      <th>genres</th>\n",
       "      <th>userId_x</th>\n",
       "      <th>rating</th>\n",
       "      <th>timestamp_x</th>\n",
       "      <th>imdbId</th>\n",
       "      <th>tmdbId</th>\n",
       "      <th>userId_y</th>\n",
       "      <th>tag</th>\n",
       "      <th>timestamp_y</th>\n",
       "    </tr>\n",
       "  </thead>\n",
       "  <tbody>\n",
       "    <tr>\n",
       "      <th>0</th>\n",
       "      <td>1</td>\n",
       "      <td>Toy Story (1995)</td>\n",
       "      <td>Adventure|Animation|Children|Comedy|Fantasy</td>\n",
       "      <td>1.0</td>\n",
       "      <td>4.0</td>\n",
       "      <td>964982703.0</td>\n",
       "      <td>114709</td>\n",
       "      <td>862.0</td>\n",
       "      <td>336.0</td>\n",
       "      <td>pixar</td>\n",
       "      <td>1.139046e+09</td>\n",
       "    </tr>\n",
       "    <tr>\n",
       "      <th>1</th>\n",
       "      <td>1</td>\n",
       "      <td>Toy Story (1995)</td>\n",
       "      <td>Adventure|Animation|Children|Comedy|Fantasy</td>\n",
       "      <td>1.0</td>\n",
       "      <td>4.0</td>\n",
       "      <td>964982703.0</td>\n",
       "      <td>114709</td>\n",
       "      <td>862.0</td>\n",
       "      <td>474.0</td>\n",
       "      <td>pixar</td>\n",
       "      <td>1.137207e+09</td>\n",
       "    </tr>\n",
       "    <tr>\n",
       "      <th>2</th>\n",
       "      <td>1</td>\n",
       "      <td>Toy Story (1995)</td>\n",
       "      <td>Adventure|Animation|Children|Comedy|Fantasy</td>\n",
       "      <td>1.0</td>\n",
       "      <td>4.0</td>\n",
       "      <td>964982703.0</td>\n",
       "      <td>114709</td>\n",
       "      <td>862.0</td>\n",
       "      <td>567.0</td>\n",
       "      <td>fun</td>\n",
       "      <td>1.525286e+09</td>\n",
       "    </tr>\n",
       "    <tr>\n",
       "      <th>3</th>\n",
       "      <td>1</td>\n",
       "      <td>Toy Story (1995)</td>\n",
       "      <td>Adventure|Animation|Children|Comedy|Fantasy</td>\n",
       "      <td>5.0</td>\n",
       "      <td>4.0</td>\n",
       "      <td>847434962.0</td>\n",
       "      <td>114709</td>\n",
       "      <td>862.0</td>\n",
       "      <td>336.0</td>\n",
       "      <td>pixar</td>\n",
       "      <td>1.139046e+09</td>\n",
       "    </tr>\n",
       "    <tr>\n",
       "      <th>4</th>\n",
       "      <td>1</td>\n",
       "      <td>Toy Story (1995)</td>\n",
       "      <td>Adventure|Animation|Children|Comedy|Fantasy</td>\n",
       "      <td>5.0</td>\n",
       "      <td>4.0</td>\n",
       "      <td>847434962.0</td>\n",
       "      <td>114709</td>\n",
       "      <td>862.0</td>\n",
       "      <td>474.0</td>\n",
       "      <td>pixar</td>\n",
       "      <td>1.137207e+09</td>\n",
       "    </tr>\n",
       "  </tbody>\n",
       "</table>\n",
       "</div>"
      ],
      "text/plain": [
       "   movieId             title                                       genres  \\\n",
       "0        1  Toy Story (1995)  Adventure|Animation|Children|Comedy|Fantasy   \n",
       "1        1  Toy Story (1995)  Adventure|Animation|Children|Comedy|Fantasy   \n",
       "2        1  Toy Story (1995)  Adventure|Animation|Children|Comedy|Fantasy   \n",
       "3        1  Toy Story (1995)  Adventure|Animation|Children|Comedy|Fantasy   \n",
       "4        1  Toy Story (1995)  Adventure|Animation|Children|Comedy|Fantasy   \n",
       "\n",
       "   userId_x  rating  timestamp_x  imdbId  tmdbId  userId_y    tag  \\\n",
       "0       1.0     4.0  964982703.0  114709   862.0     336.0  pixar   \n",
       "1       1.0     4.0  964982703.0  114709   862.0     474.0  pixar   \n",
       "2       1.0     4.0  964982703.0  114709   862.0     567.0    fun   \n",
       "3       5.0     4.0  847434962.0  114709   862.0     336.0  pixar   \n",
       "4       5.0     4.0  847434962.0  114709   862.0     474.0  pixar   \n",
       "\n",
       "    timestamp_y  \n",
       "0  1.139046e+09  \n",
       "1  1.137207e+09  \n",
       "2  1.525286e+09  \n",
       "3  1.139046e+09  \n",
       "4  1.137207e+09  "
      ]
     },
     "execution_count": 5,
     "metadata": {},
     "output_type": "execute_result"
    }
   ],
   "source": [
    "df.head()"
   ]
  },
  {
   "cell_type": "code",
   "execution_count": 6,
   "metadata": {},
   "outputs": [
    {
     "data": {
      "text/html": [
       "<div>\n",
       "<style scoped>\n",
       "    .dataframe tbody tr th:only-of-type {\n",
       "        vertical-align: middle;\n",
       "    }\n",
       "\n",
       "    .dataframe tbody tr th {\n",
       "        vertical-align: top;\n",
       "    }\n",
       "\n",
       "    .dataframe thead th {\n",
       "        text-align: right;\n",
       "    }\n",
       "</style>\n",
       "<table border=\"1\" class=\"dataframe\">\n",
       "  <thead>\n",
       "    <tr style=\"text-align: right;\">\n",
       "      <th></th>\n",
       "      <th>movieId</th>\n",
       "      <th>userId_x</th>\n",
       "      <th>rating</th>\n",
       "      <th>timestamp_x</th>\n",
       "      <th>imdbId</th>\n",
       "      <th>tmdbId</th>\n",
       "      <th>userId_y</th>\n",
       "      <th>timestamp_y</th>\n",
       "    </tr>\n",
       "  </thead>\n",
       "  <tbody>\n",
       "    <tr>\n",
       "      <th>count</th>\n",
       "      <td>285783.000000</td>\n",
       "      <td>285762.000000</td>\n",
       "      <td>285762.000000</td>\n",
       "      <td>2.857620e+05</td>\n",
       "      <td>2.857830e+05</td>\n",
       "      <td>285770.000000</td>\n",
       "      <td>233234.000000</td>\n",
       "      <td>2.332340e+05</td>\n",
       "    </tr>\n",
       "    <tr>\n",
       "      <th>mean</th>\n",
       "      <td>14927.663741</td>\n",
       "      <td>313.894279</td>\n",
       "      <td>3.841270</td>\n",
       "      <td>1.214707e+09</td>\n",
       "      <td>2.956050e+05</td>\n",
       "      <td>12797.315320</td>\n",
       "      <td>470.681354</td>\n",
       "      <td>1.384754e+09</td>\n",
       "    </tr>\n",
       "    <tr>\n",
       "      <th>std</th>\n",
       "      <td>31402.673519</td>\n",
       "      <td>179.451387</td>\n",
       "      <td>1.020798</td>\n",
       "      <td>2.233730e+08</td>\n",
       "      <td>5.150156e+05</td>\n",
       "      <td>43479.255523</td>\n",
       "      <td>153.324249</td>\n",
       "      <td>1.534705e+08</td>\n",
       "    </tr>\n",
       "    <tr>\n",
       "      <th>min</th>\n",
       "      <td>1.000000</td>\n",
       "      <td>1.000000</td>\n",
       "      <td>0.500000</td>\n",
       "      <td>8.281246e+08</td>\n",
       "      <td>4.170000e+02</td>\n",
       "      <td>2.000000</td>\n",
       "      <td>2.000000</td>\n",
       "      <td>1.137179e+09</td>\n",
       "    </tr>\n",
       "    <tr>\n",
       "      <th>25%</th>\n",
       "      <td>296.000000</td>\n",
       "      <td>160.000000</td>\n",
       "      <td>3.000000</td>\n",
       "      <td>1.019133e+09</td>\n",
       "      <td>1.098300e+05</td>\n",
       "      <td>489.000000</td>\n",
       "      <td>424.000000</td>\n",
       "      <td>1.242494e+09</td>\n",
       "    </tr>\n",
       "    <tr>\n",
       "      <th>50%</th>\n",
       "      <td>1721.000000</td>\n",
       "      <td>314.000000</td>\n",
       "      <td>4.000000</td>\n",
       "      <td>1.211377e+09</td>\n",
       "      <td>1.125730e+05</td>\n",
       "      <td>680.000000</td>\n",
       "      <td>477.000000</td>\n",
       "      <td>1.457901e+09</td>\n",
       "    </tr>\n",
       "    <tr>\n",
       "      <th>75%</th>\n",
       "      <td>5673.000000</td>\n",
       "      <td>465.000000</td>\n",
       "      <td>4.500000</td>\n",
       "      <td>1.445346e+09</td>\n",
       "      <td>2.415270e+05</td>\n",
       "      <td>8963.000000</td>\n",
       "      <td>599.000000</td>\n",
       "      <td>1.498457e+09</td>\n",
       "    </tr>\n",
       "    <tr>\n",
       "      <th>max</th>\n",
       "      <td>193609.000000</td>\n",
       "      <td>610.000000</td>\n",
       "      <td>5.000000</td>\n",
       "      <td>1.537799e+09</td>\n",
       "      <td>8.391976e+06</td>\n",
       "      <td>525662.000000</td>\n",
       "      <td>610.000000</td>\n",
       "      <td>1.537099e+09</td>\n",
       "    </tr>\n",
       "  </tbody>\n",
       "</table>\n",
       "</div>"
      ],
      "text/plain": [
       "             movieId       userId_x         rating   timestamp_x  \\\n",
       "count  285783.000000  285762.000000  285762.000000  2.857620e+05   \n",
       "mean    14927.663741     313.894279       3.841270  1.214707e+09   \n",
       "std     31402.673519     179.451387       1.020798  2.233730e+08   \n",
       "min         1.000000       1.000000       0.500000  8.281246e+08   \n",
       "25%       296.000000     160.000000       3.000000  1.019133e+09   \n",
       "50%      1721.000000     314.000000       4.000000  1.211377e+09   \n",
       "75%      5673.000000     465.000000       4.500000  1.445346e+09   \n",
       "max    193609.000000     610.000000       5.000000  1.537799e+09   \n",
       "\n",
       "             imdbId         tmdbId       userId_y   timestamp_y  \n",
       "count  2.857830e+05  285770.000000  233234.000000  2.332340e+05  \n",
       "mean   2.956050e+05   12797.315320     470.681354  1.384754e+09  \n",
       "std    5.150156e+05   43479.255523     153.324249  1.534705e+08  \n",
       "min    4.170000e+02       2.000000       2.000000  1.137179e+09  \n",
       "25%    1.098300e+05     489.000000     424.000000  1.242494e+09  \n",
       "50%    1.125730e+05     680.000000     477.000000  1.457901e+09  \n",
       "75%    2.415270e+05    8963.000000     599.000000  1.498457e+09  \n",
       "max    8.391976e+06  525662.000000     610.000000  1.537099e+09  "
      ]
     },
     "execution_count": 6,
     "metadata": {},
     "output_type": "execute_result"
    }
   ],
   "source": [
    "df.describe()"
   ]
  },
  {
   "cell_type": "code",
   "execution_count": 7,
   "metadata": {},
   "outputs": [
    {
     "name": "stdout",
     "output_type": "stream",
     "text": [
      "<class 'pandas.core.frame.DataFrame'>\n",
      "RangeIndex: 285783 entries, 0 to 285782\n",
      "Data columns (total 11 columns):\n",
      " #   Column       Non-Null Count   Dtype  \n",
      "---  ------       --------------   -----  \n",
      " 0   movieId      285783 non-null  int64  \n",
      " 1   title        285783 non-null  object \n",
      " 2   genres       285783 non-null  object \n",
      " 3   userId_x     285762 non-null  float64\n",
      " 4   rating       285762 non-null  float64\n",
      " 5   timestamp_x  285762 non-null  float64\n",
      " 6   imdbId       285783 non-null  int64  \n",
      " 7   tmdbId       285770 non-null  float64\n",
      " 8   userId_y     233234 non-null  float64\n",
      " 9   tag          233234 non-null  object \n",
      " 10  timestamp_y  233234 non-null  float64\n",
      "dtypes: float64(6), int64(2), object(3)\n",
      "memory usage: 24.0+ MB\n"
     ]
    }
   ],
   "source": [
    "df.info()"
   ]
  },
  {
   "cell_type": "code",
   "execution_count": 8,
   "metadata": {},
   "outputs": [
    {
     "name": "stdout",
     "output_type": "stream",
     "text": [
      "Missing Values in Movies:\n",
      " movieId    0\n",
      "title      0\n",
      "genres     0\n",
      "dtype: int64\n",
      "\n",
      "Missing Values in Ratings:\n",
      " userId       0\n",
      "movieId      0\n",
      "rating       0\n",
      "timestamp    0\n",
      "dtype: int64\n",
      "\n",
      "Missing Values in Links:\n",
      " movieId    0\n",
      "imdbId     0\n",
      "tmdbId     8\n",
      "dtype: int64\n",
      "\n",
      "Missing Values in Tags:\n",
      " userId       0\n",
      "movieId      0\n",
      "tag          0\n",
      "timestamp    0\n",
      "dtype: int64\n"
     ]
    }
   ],
   "source": [
    "# Remove duplicates\n",
    "movies = movies.drop_duplicates()\n",
    "ratings = ratings.drop_duplicates()\n",
    "links = links.drop_duplicates()\n",
    "tags = tags.drop_duplicates()\n",
    "\n",
    "# Convert data types\n",
    "ratings['rating'] = ratings['rating'].astype(float)\n",
    "movies['genres'] = movies['genres'].astype('category')\n",
    "\n",
    "# Handle missing values\n",
    "ratings = ratings.dropna()  # Remove rows with missing ratings\n",
    "tags = tags.fillna('No Tag')  # Replace missing tags with 'No Tag'\n",
    "\n",
    "# Check for missing values in each DataFrame\n",
    "missing_movies = movies.isnull().sum()\n",
    "missing_ratings = ratings.isnull().sum()\n",
    "missing_links = links.isnull().sum()\n",
    "missing_tags = tags.isnull().sum()\n",
    "\n",
    "# Display missing values summary\n",
    "print(\"Missing Values in Movies:\\n\", missing_movies)\n",
    "print(\"\\nMissing Values in Ratings:\\n\", missing_ratings)\n",
    "print(\"\\nMissing Values in Links:\\n\", missing_links)\n",
    "print(\"\\nMissing Values in Tags:\\n\", missing_tags)"
   ]
  },
  {
   "cell_type": "code",
   "execution_count": 9,
   "metadata": {},
   "outputs": [
    {
     "name": "stdout",
     "output_type": "stream",
     "text": [
      "Numerical Columns in Ratings:\n",
      " ['userId', 'movieId', 'rating', 'timestamp']\n",
      "\n",
      "Categorical Columns in Movies:\n",
      " ['title', 'genres']\n",
      "\n",
      "Columns in Links:\n",
      " ['movieId', 'imdbId', 'tmdbId']\n",
      "\n",
      "Columns in Tags:\n",
      " ['userId', 'movieId', 'tag', 'timestamp']\n"
     ]
    }
   ],
   "source": [
    "# Inspecting the columns and their data types\n",
    "numerical_columns = ratings.select_dtypes(include=['float64', 'int64']).columns.tolist()\n",
    "categorical_columns = movies.select_dtypes(include=['category', 'object']).columns.tolist()\n",
    "\n",
    "# Additional inspection for links and tags\n",
    "link_columns = links.columns.tolist()\n",
    "tag_columns = tags.columns.tolist()\n",
    "\n",
    "# Displaying the results\n",
    "print(\"Numerical Columns in Ratings:\\n\", numerical_columns)\n",
    "print(\"\\nCategorical Columns in Movies:\\n\", categorical_columns)\n",
    "print(\"\\nColumns in Links:\\n\", link_columns)\n",
    "print(\"\\nColumns in Tags:\\n\", tag_columns)"
   ]
  },
  {
   "cell_type": "code",
   "execution_count": 10,
   "metadata": {},
   "outputs": [
    {
     "data": {
      "text/plain": [
       "(4.5, 1.042529239060635, 1.086867214296347)"
      ]
     },
     "execution_count": 10,
     "metadata": {},
     "output_type": "execute_result"
    }
   ],
   "source": [
    "# Dispersion Analysis\n",
    "rating_range = ratings['rating'].max() - ratings['rating'].min()\n",
    "std_deviation = ratings['rating'].std()\n",
    "variance = std_deviation ** 2\n",
    "\n",
    "rating_range, std_deviation, variance"
   ]
  },
  {
   "cell_type": "code",
   "execution_count": 11,
   "metadata": {},
   "outputs": [
    {
     "data": {
      "text/plain": [
       "(-0.6371993892529214, 0.12331407123922622)"
      ]
     },
     "execution_count": 11,
     "metadata": {},
     "output_type": "execute_result"
    }
   ],
   "source": [
    "# Shape of the Distribution Analysis\n",
    "skewness = ratings['rating'].skew()\n",
    "kurtosis = ratings['rating'].kurtosis()\n",
    "\n",
    "skewness, kurtosis"
   ]
  },
  {
   "cell_type": "code",
   "execution_count": 12,
   "metadata": {},
   "outputs": [
    {
     "data": {
      "text/plain": [
       "(Drama                 4361\n",
       " Comedy                3756\n",
       " Thriller              1894\n",
       " Action                1828\n",
       " Romance               1596\n",
       " Adventure             1263\n",
       " Crime                 1199\n",
       " Sci-Fi                 980\n",
       " Horror                 978\n",
       " Fantasy                779\n",
       " Children               664\n",
       " Animation              611\n",
       " Mystery                573\n",
       " Documentary            440\n",
       " War                    382\n",
       " Musical                334\n",
       " Western                167\n",
       " IMAX                   158\n",
       " Film-Noir               87\n",
       " (no genres listed)      34\n",
       " dtype: int64,\n",
       " tag\n",
       " In Netflix queue     131\n",
       " atmospheric           36\n",
       " thought-provoking     24\n",
       " superhero             24\n",
       " funny                 23\n",
       "                     ... \n",
       " small towns            1\n",
       " In Your Eyes           1\n",
       " Lloyd Dobbler          1\n",
       " weak plot              1\n",
       " Heroic Bloodshed       1\n",
       " Name: count, Length: 1589, dtype: int64)"
      ]
     },
     "execution_count": 12,
     "metadata": {},
     "output_type": "execute_result"
    }
   ],
   "source": [
    "# Frequency Count for Genres\n",
    "genre_counts = movies['genres'].str.get_dummies(sep='|').sum().sort_values(ascending=False)\n",
    "\n",
    "# Frequency Count for Tags\n",
    "tag_counts = tags['tag'].value_counts()\n",
    "\n",
    "genre_counts, tag_counts"
   ]
  },
  {
   "cell_type": "code",
   "execution_count": 13,
   "metadata": {},
   "outputs": [
    {
     "data": {
      "text/plain": [
       "('Drama', 4361, 'In Netflix queue', 131)"
      ]
     },
     "execution_count": 13,
     "metadata": {},
     "output_type": "execute_result"
    }
   ],
   "source": [
    "# Mode for Genres\n",
    "most_common_genre = genre_counts.idxmax()\n",
    "most_common_genre_count = genre_counts.max()\n",
    "\n",
    "# Mode for Tags\n",
    "most_common_tag = tag_counts.idxmax()\n",
    "most_common_tag_count = tag_counts.max()\n",
    "\n",
    "most_common_genre, most_common_genre_count, most_common_tag, most_common_tag_count"
   ]
  },
  {
   "cell_type": "code",
   "execution_count": 14,
   "metadata": {},
   "outputs": [
    {
     "data": {
      "text/plain": [
       "(Drama                 19.747328\n",
       " Comedy                17.007788\n",
       " Thriller               8.576345\n",
       " Action                 8.277486\n",
       " Romance                7.226952\n",
       " Adventure              5.719073\n",
       " Crime                  5.429270\n",
       " Sci-Fi                 4.437602\n",
       " Horror                 4.428546\n",
       " Fantasy                3.527441\n",
       " Children               3.006702\n",
       " Animation              2.766709\n",
       " Mystery                2.594639\n",
       " Documentary            1.992393\n",
       " War                    1.729759\n",
       " Musical                1.512407\n",
       " Western                0.756204\n",
       " IMAX                   0.715450\n",
       " Film-Noir              0.393950\n",
       " (no genres listed)     0.153958\n",
       " dtype: float64,\n",
       " tag\n",
       " In Netflix queue     3.556883\n",
       " atmospheric          0.977464\n",
       " thought-provoking    0.651643\n",
       " superhero            0.651643\n",
       " funny                0.624491\n",
       "                        ...   \n",
       " small towns          0.027152\n",
       " In Your Eyes         0.027152\n",
       " Lloyd Dobbler        0.027152\n",
       " weak plot            0.027152\n",
       " Heroic Bloodshed     0.027152\n",
       " Name: count, Length: 1589, dtype: float64)"
      ]
     },
     "execution_count": 14,
     "metadata": {},
     "output_type": "execute_result"
    }
   ],
   "source": [
    "# Proportions for Genres\n",
    "genre_proportions = genre_counts / genre_counts.sum() * 100\n",
    "\n",
    "# Proportions for Tags\n",
    "tag_proportions = tag_counts / tag_counts.sum() * 100\n",
    "\n",
    "genre_proportions, tag_proportions"
   ]
  },
  {
   "cell_type": "code",
   "execution_count": 15,
   "metadata": {},
   "outputs": [
    {
     "data": {
      "text/html": [
       "<div>\n",
       "<style scoped>\n",
       "    .dataframe tbody tr th:only-of-type {\n",
       "        vertical-align: middle;\n",
       "    }\n",
       "\n",
       "    .dataframe tbody tr th {\n",
       "        vertical-align: top;\n",
       "    }\n",
       "\n",
       "    .dataframe thead th {\n",
       "        text-align: right;\n",
       "    }\n",
       "</style>\n",
       "<table border=\"1\" class=\"dataframe\">\n",
       "  <thead>\n",
       "    <tr style=\"text-align: right;\">\n",
       "      <th></th>\n",
       "      <th>userId</th>\n",
       "      <th>movieId</th>\n",
       "      <th>rating</th>\n",
       "    </tr>\n",
       "  </thead>\n",
       "  <tbody>\n",
       "    <tr>\n",
       "      <th>userId</th>\n",
       "      <td>1.000000</td>\n",
       "      <td>0.006773</td>\n",
       "      <td>-0.049348</td>\n",
       "    </tr>\n",
       "    <tr>\n",
       "      <th>movieId</th>\n",
       "      <td>0.006773</td>\n",
       "      <td>1.000000</td>\n",
       "      <td>-0.004061</td>\n",
       "    </tr>\n",
       "    <tr>\n",
       "      <th>rating</th>\n",
       "      <td>-0.049348</td>\n",
       "      <td>-0.004061</td>\n",
       "      <td>1.000000</td>\n",
       "    </tr>\n",
       "  </tbody>\n",
       "</table>\n",
       "</div>"
      ],
      "text/plain": [
       "           userId   movieId    rating\n",
       "userId   1.000000  0.006773 -0.049348\n",
       "movieId  0.006773  1.000000 -0.004061\n",
       "rating  -0.049348 -0.004061  1.000000"
      ]
     },
     "execution_count": 15,
     "metadata": {},
     "output_type": "execute_result"
    }
   ],
   "source": [
    "# Correlation Analysis\n",
    "correlation_matrix = ratings[['userId', 'movieId', 'rating']].corr(method='pearson')\n",
    "\n",
    "correlation_matrix"
   ]
  },
  {
   "cell_type": "code",
   "execution_count": 16,
   "metadata": {},
   "outputs": [
    {
     "data": {
      "text/plain": [
       "(movieId\n",
       " 1         3.920930\n",
       " 2         3.431818\n",
       " 3         3.259615\n",
       " 4         2.357143\n",
       " 5         3.071429\n",
       "             ...   \n",
       " 193581    4.000000\n",
       " 193583    3.500000\n",
       " 193585    3.500000\n",
       " 193587    3.500000\n",
       " 193609    4.000000\n",
       " Name: rating, Length: 9724, dtype: float64,\n",
       " userId\n",
       " 1      4.366379\n",
       " 2      3.948276\n",
       " 3      2.435897\n",
       " 4      3.555556\n",
       " 5      3.636364\n",
       "          ...   \n",
       " 606    3.657399\n",
       " 607    3.786096\n",
       " 608    3.134176\n",
       " 609    3.270270\n",
       " 610    3.688556\n",
       " Name: rating, Length: 610, dtype: float64,\n",
       " movieId\n",
       " 1         215\n",
       " 2         110\n",
       " 3          52\n",
       " 4           7\n",
       " 5          49\n",
       "          ... \n",
       " 193581      1\n",
       " 193583      1\n",
       " 193585      1\n",
       " 193587      1\n",
       " 193609      1\n",
       " Name: rating, Length: 9724, dtype: int64)"
      ]
     },
     "execution_count": 16,
     "metadata": {},
     "output_type": "execute_result"
    }
   ],
   "source": [
    "# Group-wise Summary Statistics\n",
    "average_ratings_by_movie = ratings.groupby('movieId')['rating'].mean()\n",
    "average_ratings_by_user = ratings.groupby('userId')['rating'].mean()\n",
    "number_of_ratings_per_movie = ratings.groupby('movieId')['rating'].count()\n",
    "\n",
    "average_ratings_by_movie, average_ratings_by_user, number_of_ratings_per_movie"
   ]
  },
  {
   "cell_type": "code",
   "execution_count": 19,
   "metadata": {},
   "outputs": [
    {
     "data": {
      "image/png": "[encoded data removed]",
      "text/plain": [
       "<Figure size 1000x600 with 1 Axes>"
      ]
     },
     "metadata": {},
     "output_type": "display_data"
    },
    {
     "data": {
      "text/plain": [
       "(count    100836.000000\n",
       " mean          3.501557\n",
       " std           1.042529\n",
       " min           0.500000\n",
       " 25%           3.000000\n",
       " 50%           3.500000\n",
       " 75%           4.000000\n",
       " max           5.000000\n",
       " Name: rating, dtype: float64,\n",
       "         userId  movieId  rating   timestamp\n",
       " 205          1     3176     1.0   964983504\n",
       " 261          3       31     0.5  1306463578\n",
       " 262          3      527     0.5  1306464275\n",
       " 263          3      647     0.5  1306463619\n",
       " 264          3      688     0.5  1306464228\n",
       " ...        ...      ...     ...         ...\n",
       " 100374     610    68319     1.0  1493845505\n",
       " 100415     610    72424     0.5  1493849030\n",
       " 100426     610    74075     1.0  1493848880\n",
       " 100734     610   120635     1.0  1493850489\n",
       " 100797     610   145951     0.5  1493849019\n",
       " \n",
       " [4181 rows x 4 columns])"
      ]
     },
     "execution_count": 19,
     "metadata": {},
     "output_type": "execute_result"
    }
   ],
   "source": [
    "# Descriptive statistics for ratings\n",
    "rating_description = ratings['rating'].describe()\n",
    "\n",
    "# Calculate IQR\n",
    "Q1 = rating_description['25%']\n",
    "Q3 = rating_description['75%']\n",
    "IQR = Q3 - Q1\n",
    "\n",
    "# Determine outlier thresholds\n",
    "lower_bound = Q1 - 1.5 * IQR\n",
    "upper_bound = Q3 + 1.5 * IQR\n",
    "\n",
    "# Identify outliers\n",
    "outliers = ratings[(ratings['rating'] < lower_bound) | (ratings['rating'] > upper_bound)]\n",
    "\n",
    "# Boxplot for visualizing outliers\n",
    "plt.figure(figsize=(10, 6))\n",
    "plt.boxplot(ratings['rating'], vert=False)\n",
    "plt.title('Boxplot of Ratings')\n",
    "plt.xlabel('Rating')\n",
    "plt.show()\n",
    "\n",
    "rating_description, outliers"
   ]
  },
  {
   "cell_type": "code",
   "execution_count": 20,
   "metadata": {},
   "outputs": [
    {
     "data": {
      "image/png": "[encoded data removed]",
      "text/plain": [
       "<Figure size 1000x600 with 1 Axes>"
      ]
     },
     "metadata": {},
     "output_type": "display_data"
    }
   ],
   "source": [
    "import matplotlib.pyplot as plt\n",
    "\n",
    "# Plot histogram for ratings\n",
    "plt.figure(figsize=(10, 6))\n",
    "plt.hist(ratings['rating'], bins=20, color='blue', alpha=0.7, edgecolor='black')\n",
    "plt.title('Histogram of Ratings')\n",
    "plt.xlabel('Rating')\n",
    "plt.ylabel('Frequency')\n",
    "plt.grid(axis='y', alpha=0.75)\n",
    "plt.show()"
   ]
  },
  {
   "cell_type": "code",
   "execution_count": null,
   "metadata": {},
   "outputs": [],
   "source": []
  }
 ],
 "metadata": {
  "kernelspec": {
   "display_name": "Python 3 (ipykernel)",
   "language": "python",
   "name": "python3"
  },
  "language_info": {
   "codemirror_mode": {
    "name": "ipython",
    "version": 3
   },
   "file_extension": ".py",
   "mimetype": "text/x-python",
   "name": "python",
   "nbconvert_exporter": "python",
   "pygments_lexer": "ipython3",
   "version": "3.12.2"
  }
 },
 "nbformat": 4,
 "nbformat_minor": 4
}
